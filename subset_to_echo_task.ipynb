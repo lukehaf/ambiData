{
 "cells": [
  {
   "cell_type": "code",
   "execution_count": null,
   "id": "89c0492e-5d76-4385-bddc-3d362ebdaf58",
   "metadata": {},
   "outputs": [],
   "source": [
    "# Read in the data\n",
    "accuracy = pd.read_csv('3b_accuracy.csv')\n",
    "# subset to Echo Task\n",
    "accuracy = accuracy[accuracy[\"names_flag\"]]"
   ]
  }
 ],
 "metadata": {
  "kernelspec": {
   "display_name": "Python 3 (ipykernel)",
   "language": "python",
   "name": "python3"
  },
  "language_info": {
   "codemirror_mode": {
    "name": "ipython",
    "version": 3
   },
   "file_extension": ".py",
   "mimetype": "text/x-python",
   "name": "python",
   "nbconvert_exporter": "python",
   "pygments_lexer": "ipython3",
   "version": "3.12.9"
  }
 },
 "nbformat": 4,
 "nbformat_minor": 5
}
